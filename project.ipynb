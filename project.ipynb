{
  "cells": [
    {
      "cell_type": "markdown",
      "metadata": {
        "collapsed": false,
        "id": "YUvbwsXOWFT1"
      },
      "source": [
        "**Import Statements**"
      ]
    },
    {
      "cell_type": "code",
      "execution_count": null,
      "metadata": {
        "colab": {
          "base_uri": "https://localhost:8080/"
        },
        "id": "_wTd1xDQhsAw",
        "outputId": "2dc672f7-6f6b-40f1-d82e-43e4c0257917"
      },
      "outputs": [
        {
          "output_type": "stream",
          "name": "stdout",
          "text": [
            "Mounted at /content/drive\n"
          ]
        }
      ],
      "source": [
        "from google.colab import drive\n",
        "drive.mount('/content/drive')"
      ]
    },
    {
      "cell_type": "code",
      "execution_count": null,
      "metadata": {
        "collapsed": true,
        "id": "N6nFGY1rWFT4"
      },
      "outputs": [],
      "source": [
        "from nltk.stem import PorterStemmer\n",
        "from nltk import word_tokenize\n",
        "import pandas as pd\n",
        "import numpy as np\n",
        "import matplotlib.pyplot as plt\n",
        "import seaborn as sns\n",
        "from sklearn.model_selection import train_test_split\n",
        "from sklearn.feature_extraction.text import TfidfVectorizer\n",
        "from sklearn.naive_bayes import MultinomialNB\n",
        "from sklearn.svm import LinearSVC\n",
        "from sklearn.metrics import accuracy_score\n",
        "from sklearn.metrics import mean_squared_error\n",
        "import tkinter\n",
        "from tkinter import *\n",
        "from sklearn.ensemble import RandomForestClassifier\n"
      ]
    },
    {
      "cell_type": "markdown",
      "metadata": {
        "collapsed": false,
        "id": "pa-Hr2xiWFT5"
      },
      "source": [
        "Reading the Data file. The data file size is 115mb, it has **434891** entries"
      ]
    },
    {
      "cell_type": "code",
      "execution_count": null,
      "metadata": {
        "id": "qDjSdIhRWFT6"
      },
      "outputs": [],
      "source": [
        "steam_review = pd.read_csv(\"/content/drive/MyDrive/steam_reviews.csv\")"
      ]
    },
    {
      "cell_type": "code",
      "execution_count": null,
      "metadata": {
        "colab": {
          "base_uri": "https://localhost:8080/",
          "height": 293
        },
        "id": "CkLV-hX3WFT7",
        "outputId": "98f33f98-beec-4172-9d78-3677e97cc4e2"
      },
      "outputs": [
        {
          "output_type": "execute_result",
          "data": {
            "text/plain": [
              "  date_posted  funny  helpful  hour_played  is_early_access_review  \\\n",
              "0  2019-02-10      2        4          578                   False   \n",
              "1  2019-02-10      0        0          184                   False   \n",
              "2  2019-02-07      0        0          892                   False   \n",
              "3  2018-06-14    126     1086          676                   False   \n",
              "4  2017-06-20     85     2139          612                   False   \n",
              "\n",
              "  recommendation                                             review  \\\n",
              "0    Recommended  &gt Played as German Reich&gt Declare war on B...   \n",
              "1    Recommended                                               yes.   \n",
              "2    Recommended  Very good game although a bit overpriced in my...   \n",
              "3    Recommended  Out of all the reviews I wrote This one is pro...   \n",
              "4    Recommended  Disclaimer I survivor main. I play games for f...   \n",
              "\n",
              "                                         title  \n",
              "0  Expansion - Hearts of Iron IV: Man the Guns  \n",
              "1  Expansion - Hearts of Iron IV: Man the Guns  \n",
              "2  Expansion - Hearts of Iron IV: Man the Guns  \n",
              "3                             Dead by Daylight  \n",
              "4                             Dead by Daylight  "
            ],
            "text/html": [
              "\n",
              "  <div id=\"df-1eb299b9-45c3-40ee-b02e-bd9d2f9979d4\" class=\"colab-df-container\">\n",
              "    <div>\n",
              "<style scoped>\n",
              "    .dataframe tbody tr th:only-of-type {\n",
              "        vertical-align: middle;\n",
              "    }\n",
              "\n",
              "    .dataframe tbody tr th {\n",
              "        vertical-align: top;\n",
              "    }\n",
              "\n",
              "    .dataframe thead th {\n",
              "        text-align: right;\n",
              "    }\n",
              "</style>\n",
              "<table border=\"1\" class=\"dataframe\">\n",
              "  <thead>\n",
              "    <tr style=\"text-align: right;\">\n",
              "      <th></th>\n",
              "      <th>date_posted</th>\n",
              "      <th>funny</th>\n",
              "      <th>helpful</th>\n",
              "      <th>hour_played</th>\n",
              "      <th>is_early_access_review</th>\n",
              "      <th>recommendation</th>\n",
              "      <th>review</th>\n",
              "      <th>title</th>\n",
              "    </tr>\n",
              "  </thead>\n",
              "  <tbody>\n",
              "    <tr>\n",
              "      <th>0</th>\n",
              "      <td>2019-02-10</td>\n",
              "      <td>2</td>\n",
              "      <td>4</td>\n",
              "      <td>578</td>\n",
              "      <td>False</td>\n",
              "      <td>Recommended</td>\n",
              "      <td>&amp;gt Played as German Reich&amp;gt Declare war on B...</td>\n",
              "      <td>Expansion - Hearts of Iron IV: Man the Guns</td>\n",
              "    </tr>\n",
              "    <tr>\n",
              "      <th>1</th>\n",
              "      <td>2019-02-10</td>\n",
              "      <td>0</td>\n",
              "      <td>0</td>\n",
              "      <td>184</td>\n",
              "      <td>False</td>\n",
              "      <td>Recommended</td>\n",
              "      <td>yes.</td>\n",
              "      <td>Expansion - Hearts of Iron IV: Man the Guns</td>\n",
              "    </tr>\n",
              "    <tr>\n",
              "      <th>2</th>\n",
              "      <td>2019-02-07</td>\n",
              "      <td>0</td>\n",
              "      <td>0</td>\n",
              "      <td>892</td>\n",
              "      <td>False</td>\n",
              "      <td>Recommended</td>\n",
              "      <td>Very good game although a bit overpriced in my...</td>\n",
              "      <td>Expansion - Hearts of Iron IV: Man the Guns</td>\n",
              "    </tr>\n",
              "    <tr>\n",
              "      <th>3</th>\n",
              "      <td>2018-06-14</td>\n",
              "      <td>126</td>\n",
              "      <td>1086</td>\n",
              "      <td>676</td>\n",
              "      <td>False</td>\n",
              "      <td>Recommended</td>\n",
              "      <td>Out of all the reviews I wrote This one is pro...</td>\n",
              "      <td>Dead by Daylight</td>\n",
              "    </tr>\n",
              "    <tr>\n",
              "      <th>4</th>\n",
              "      <td>2017-06-20</td>\n",
              "      <td>85</td>\n",
              "      <td>2139</td>\n",
              "      <td>612</td>\n",
              "      <td>False</td>\n",
              "      <td>Recommended</td>\n",
              "      <td>Disclaimer I survivor main. I play games for f...</td>\n",
              "      <td>Dead by Daylight</td>\n",
              "    </tr>\n",
              "  </tbody>\n",
              "</table>\n",
              "</div>\n",
              "    <div class=\"colab-df-buttons\">\n",
              "\n",
              "  <div class=\"colab-df-container\">\n",
              "    <button class=\"colab-df-convert\" onclick=\"convertToInteractive('df-1eb299b9-45c3-40ee-b02e-bd9d2f9979d4')\"\n",
              "            title=\"Convert this dataframe to an interactive table.\"\n",
              "            style=\"display:none;\">\n",
              "\n",
              "  <svg xmlns=\"http://www.w3.org/2000/svg\" height=\"24px\" viewBox=\"0 -960 960 960\">\n",
              "    <path d=\"M120-120v-720h720v720H120Zm60-500h600v-160H180v160Zm220 220h160v-160H400v160Zm0 220h160v-160H400v160ZM180-400h160v-160H180v160Zm440 0h160v-160H620v160ZM180-180h160v-160H180v160Zm440 0h160v-160H620v160Z\"/>\n",
              "  </svg>\n",
              "    </button>\n",
              "\n",
              "  <style>\n",
              "    .colab-df-container {\n",
              "      display:flex;\n",
              "      gap: 12px;\n",
              "    }\n",
              "\n",
              "    .colab-df-convert {\n",
              "      background-color: #E8F0FE;\n",
              "      border: none;\n",
              "      border-radius: 50%;\n",
              "      cursor: pointer;\n",
              "      display: none;\n",
              "      fill: #1967D2;\n",
              "      height: 32px;\n",
              "      padding: 0 0 0 0;\n",
              "      width: 32px;\n",
              "    }\n",
              "\n",
              "    .colab-df-convert:hover {\n",
              "      background-color: #E2EBFA;\n",
              "      box-shadow: 0px 1px 2px rgba(60, 64, 67, 0.3), 0px 1px 3px 1px rgba(60, 64, 67, 0.15);\n",
              "      fill: #174EA6;\n",
              "    }\n",
              "\n",
              "    .colab-df-buttons div {\n",
              "      margin-bottom: 4px;\n",
              "    }\n",
              "\n",
              "    [theme=dark] .colab-df-convert {\n",
              "      background-color: #3B4455;\n",
              "      fill: #D2E3FC;\n",
              "    }\n",
              "\n",
              "    [theme=dark] .colab-df-convert:hover {\n",
              "      background-color: #434B5C;\n",
              "      box-shadow: 0px 1px 3px 1px rgba(0, 0, 0, 0.15);\n",
              "      filter: drop-shadow(0px 1px 2px rgba(0, 0, 0, 0.3));\n",
              "      fill: #FFFFFF;\n",
              "    }\n",
              "  </style>\n",
              "\n",
              "    <script>\n",
              "      const buttonEl =\n",
              "        document.querySelector('#df-1eb299b9-45c3-40ee-b02e-bd9d2f9979d4 button.colab-df-convert');\n",
              "      buttonEl.style.display =\n",
              "        google.colab.kernel.accessAllowed ? 'block' : 'none';\n",
              "\n",
              "      async function convertToInteractive(key) {\n",
              "        const element = document.querySelector('#df-1eb299b9-45c3-40ee-b02e-bd9d2f9979d4');\n",
              "        const dataTable =\n",
              "          await google.colab.kernel.invokeFunction('convertToInteractive',\n",
              "                                                    [key], {});\n",
              "        if (!dataTable) return;\n",
              "\n",
              "        const docLinkHtml = 'Like what you see? Visit the ' +\n",
              "          '<a target=\"_blank\" href=https://colab.research.google.com/notebooks/data_table.ipynb>data table notebook</a>'\n",
              "          + ' to learn more about interactive tables.';\n",
              "        element.innerHTML = '';\n",
              "        dataTable['output_type'] = 'display_data';\n",
              "        await google.colab.output.renderOutput(dataTable, element);\n",
              "        const docLink = document.createElement('div');\n",
              "        docLink.innerHTML = docLinkHtml;\n",
              "        element.appendChild(docLink);\n",
              "      }\n",
              "    </script>\n",
              "  </div>\n",
              "\n",
              "\n",
              "<div id=\"df-6118bef6-401b-47bd-b26e-99fe1117f5de\">\n",
              "  <button class=\"colab-df-quickchart\" onclick=\"quickchart('df-6118bef6-401b-47bd-b26e-99fe1117f5de')\"\n",
              "            title=\"Suggest charts.\"\n",
              "            style=\"display:none;\">\n",
              "\n",
              "<svg xmlns=\"http://www.w3.org/2000/svg\" height=\"24px\"viewBox=\"0 0 24 24\"\n",
              "     width=\"24px\">\n",
              "    <g>\n",
              "        <path d=\"M19 3H5c-1.1 0-2 .9-2 2v14c0 1.1.9 2 2 2h14c1.1 0 2-.9 2-2V5c0-1.1-.9-2-2-2zM9 17H7v-7h2v7zm4 0h-2V7h2v10zm4 0h-2v-4h2v4z\"/>\n",
              "    </g>\n",
              "</svg>\n",
              "  </button>\n",
              "\n",
              "<style>\n",
              "  .colab-df-quickchart {\n",
              "    background-color: #E8F0FE;\n",
              "    border: none;\n",
              "    border-radius: 50%;\n",
              "    cursor: pointer;\n",
              "    display: none;\n",
              "    fill: #1967D2;\n",
              "    height: 32px;\n",
              "    padding: 0 0 0 0;\n",
              "    width: 32px;\n",
              "  }\n",
              "\n",
              "  .colab-df-quickchart:hover {\n",
              "    background-color: #E2EBFA;\n",
              "    box-shadow: 0px 1px 2px rgba(60, 64, 67, 0.3), 0px 1px 3px 1px rgba(60, 64, 67, 0.15);\n",
              "    fill: #174EA6;\n",
              "  }\n",
              "\n",
              "  [theme=dark] .colab-df-quickchart {\n",
              "    background-color: #3B4455;\n",
              "    fill: #D2E3FC;\n",
              "  }\n",
              "\n",
              "  [theme=dark] .colab-df-quickchart:hover {\n",
              "    background-color: #434B5C;\n",
              "    box-shadow: 0px 1px 3px 1px rgba(0, 0, 0, 0.15);\n",
              "    filter: drop-shadow(0px 1px 2px rgba(0, 0, 0, 0.3));\n",
              "    fill: #FFFFFF;\n",
              "  }\n",
              "</style>\n",
              "\n",
              "  <script>\n",
              "    async function quickchart(key) {\n",
              "      const charts = await google.colab.kernel.invokeFunction(\n",
              "          'suggestCharts', [key], {});\n",
              "    }\n",
              "    (() => {\n",
              "      let quickchartButtonEl =\n",
              "        document.querySelector('#df-6118bef6-401b-47bd-b26e-99fe1117f5de button');\n",
              "      quickchartButtonEl.style.display =\n",
              "        google.colab.kernel.accessAllowed ? 'block' : 'none';\n",
              "    })();\n",
              "  </script>\n",
              "</div>\n",
              "    </div>\n",
              "  </div>\n"
            ]
          },
          "metadata": {},
          "execution_count": 4
        }
      ],
      "source": [
        "steam_review.head()"
      ]
    },
    {
      "cell_type": "code",
      "execution_count": null,
      "metadata": {
        "colab": {
          "base_uri": "https://localhost:8080/",
          "height": 300
        },
        "id": "WwZRT4R_WFT8",
        "outputId": "03c9cea7-cfbd-43b5-8550-a15decd4307a"
      },
      "outputs": [
        {
          "output_type": "execute_result",
          "data": {
            "text/plain": [
              "              funny        helpful    hour_played\n",
              "count  4.348910e+05  434891.000000  434891.000000\n",
              "mean   5.333024e+05       1.004114     364.130773\n",
              "std    4.785640e+07      59.462935     545.961198\n",
              "min    0.000000e+00       0.000000       0.000000\n",
              "25%    0.000000e+00       0.000000      62.000000\n",
              "50%    0.000000e+00       0.000000     190.000000\n",
              "75%    0.000000e+00       0.000000     450.000000\n",
              "max    4.294967e+09   28171.000000   31962.000000"
            ],
            "text/html": [
              "\n",
              "  <div id=\"df-880b9650-7994-4375-9a0e-69f5480a654a\" class=\"colab-df-container\">\n",
              "    <div>\n",
              "<style scoped>\n",
              "    .dataframe tbody tr th:only-of-type {\n",
              "        vertical-align: middle;\n",
              "    }\n",
              "\n",
              "    .dataframe tbody tr th {\n",
              "        vertical-align: top;\n",
              "    }\n",
              "\n",
              "    .dataframe thead th {\n",
              "        text-align: right;\n",
              "    }\n",
              "</style>\n",
              "<table border=\"1\" class=\"dataframe\">\n",
              "  <thead>\n",
              "    <tr style=\"text-align: right;\">\n",
              "      <th></th>\n",
              "      <th>funny</th>\n",
              "      <th>helpful</th>\n",
              "      <th>hour_played</th>\n",
              "    </tr>\n",
              "  </thead>\n",
              "  <tbody>\n",
              "    <tr>\n",
              "      <th>count</th>\n",
              "      <td>4.348910e+05</td>\n",
              "      <td>434891.000000</td>\n",
              "      <td>434891.000000</td>\n",
              "    </tr>\n",
              "    <tr>\n",
              "      <th>mean</th>\n",
              "      <td>5.333024e+05</td>\n",
              "      <td>1.004114</td>\n",
              "      <td>364.130773</td>\n",
              "    </tr>\n",
              "    <tr>\n",
              "      <th>std</th>\n",
              "      <td>4.785640e+07</td>\n",
              "      <td>59.462935</td>\n",
              "      <td>545.961198</td>\n",
              "    </tr>\n",
              "    <tr>\n",
              "      <th>min</th>\n",
              "      <td>0.000000e+00</td>\n",
              "      <td>0.000000</td>\n",
              "      <td>0.000000</td>\n",
              "    </tr>\n",
              "    <tr>\n",
              "      <th>25%</th>\n",
              "      <td>0.000000e+00</td>\n",
              "      <td>0.000000</td>\n",
              "      <td>62.000000</td>\n",
              "    </tr>\n",
              "    <tr>\n",
              "      <th>50%</th>\n",
              "      <td>0.000000e+00</td>\n",
              "      <td>0.000000</td>\n",
              "      <td>190.000000</td>\n",
              "    </tr>\n",
              "    <tr>\n",
              "      <th>75%</th>\n",
              "      <td>0.000000e+00</td>\n",
              "      <td>0.000000</td>\n",
              "      <td>450.000000</td>\n",
              "    </tr>\n",
              "    <tr>\n",
              "      <th>max</th>\n",
              "      <td>4.294967e+09</td>\n",
              "      <td>28171.000000</td>\n",
              "      <td>31962.000000</td>\n",
              "    </tr>\n",
              "  </tbody>\n",
              "</table>\n",
              "</div>\n",
              "    <div class=\"colab-df-buttons\">\n",
              "\n",
              "  <div class=\"colab-df-container\">\n",
              "    <button class=\"colab-df-convert\" onclick=\"convertToInteractive('df-880b9650-7994-4375-9a0e-69f5480a654a')\"\n",
              "            title=\"Convert this dataframe to an interactive table.\"\n",
              "            style=\"display:none;\">\n",
              "\n",
              "  <svg xmlns=\"http://www.w3.org/2000/svg\" height=\"24px\" viewBox=\"0 -960 960 960\">\n",
              "    <path d=\"M120-120v-720h720v720H120Zm60-500h600v-160H180v160Zm220 220h160v-160H400v160Zm0 220h160v-160H400v160ZM180-400h160v-160H180v160Zm440 0h160v-160H620v160ZM180-180h160v-160H180v160Zm440 0h160v-160H620v160Z\"/>\n",
              "  </svg>\n",
              "    </button>\n",
              "\n",
              "  <style>\n",
              "    .colab-df-container {\n",
              "      display:flex;\n",
              "      gap: 12px;\n",
              "    }\n",
              "\n",
              "    .colab-df-convert {\n",
              "      background-color: #E8F0FE;\n",
              "      border: none;\n",
              "      border-radius: 50%;\n",
              "      cursor: pointer;\n",
              "      display: none;\n",
              "      fill: #1967D2;\n",
              "      height: 32px;\n",
              "      padding: 0 0 0 0;\n",
              "      width: 32px;\n",
              "    }\n",
              "\n",
              "    .colab-df-convert:hover {\n",
              "      background-color: #E2EBFA;\n",
              "      box-shadow: 0px 1px 2px rgba(60, 64, 67, 0.3), 0px 1px 3px 1px rgba(60, 64, 67, 0.15);\n",
              "      fill: #174EA6;\n",
              "    }\n",
              "\n",
              "    .colab-df-buttons div {\n",
              "      margin-bottom: 4px;\n",
              "    }\n",
              "\n",
              "    [theme=dark] .colab-df-convert {\n",
              "      background-color: #3B4455;\n",
              "      fill: #D2E3FC;\n",
              "    }\n",
              "\n",
              "    [theme=dark] .colab-df-convert:hover {\n",
              "      background-color: #434B5C;\n",
              "      box-shadow: 0px 1px 3px 1px rgba(0, 0, 0, 0.15);\n",
              "      filter: drop-shadow(0px 1px 2px rgba(0, 0, 0, 0.3));\n",
              "      fill: #FFFFFF;\n",
              "    }\n",
              "  </style>\n",
              "\n",
              "    <script>\n",
              "      const buttonEl =\n",
              "        document.querySelector('#df-880b9650-7994-4375-9a0e-69f5480a654a button.colab-df-convert');\n",
              "      buttonEl.style.display =\n",
              "        google.colab.kernel.accessAllowed ? 'block' : 'none';\n",
              "\n",
              "      async function convertToInteractive(key) {\n",
              "        const element = document.querySelector('#df-880b9650-7994-4375-9a0e-69f5480a654a');\n",
              "        const dataTable =\n",
              "          await google.colab.kernel.invokeFunction('convertToInteractive',\n",
              "                                                    [key], {});\n",
              "        if (!dataTable) return;\n",
              "\n",
              "        const docLinkHtml = 'Like what you see? Visit the ' +\n",
              "          '<a target=\"_blank\" href=https://colab.research.google.com/notebooks/data_table.ipynb>data table notebook</a>'\n",
              "          + ' to learn more about interactive tables.';\n",
              "        element.innerHTML = '';\n",
              "        dataTable['output_type'] = 'display_data';\n",
              "        await google.colab.output.renderOutput(dataTable, element);\n",
              "        const docLink = document.createElement('div');\n",
              "        docLink.innerHTML = docLinkHtml;\n",
              "        element.appendChild(docLink);\n",
              "      }\n",
              "    </script>\n",
              "  </div>\n",
              "\n",
              "\n",
              "<div id=\"df-fd918e58-746c-426b-b8f7-ac72e1332364\">\n",
              "  <button class=\"colab-df-quickchart\" onclick=\"quickchart('df-fd918e58-746c-426b-b8f7-ac72e1332364')\"\n",
              "            title=\"Suggest charts.\"\n",
              "            style=\"display:none;\">\n",
              "\n",
              "<svg xmlns=\"http://www.w3.org/2000/svg\" height=\"24px\"viewBox=\"0 0 24 24\"\n",
              "     width=\"24px\">\n",
              "    <g>\n",
              "        <path d=\"M19 3H5c-1.1 0-2 .9-2 2v14c0 1.1.9 2 2 2h14c1.1 0 2-.9 2-2V5c0-1.1-.9-2-2-2zM9 17H7v-7h2v7zm4 0h-2V7h2v10zm4 0h-2v-4h2v4z\"/>\n",
              "    </g>\n",
              "</svg>\n",
              "  </button>\n",
              "\n",
              "<style>\n",
              "  .colab-df-quickchart {\n",
              "    background-color: #E8F0FE;\n",
              "    border: none;\n",
              "    border-radius: 50%;\n",
              "    cursor: pointer;\n",
              "    display: none;\n",
              "    fill: #1967D2;\n",
              "    height: 32px;\n",
              "    padding: 0 0 0 0;\n",
              "    width: 32px;\n",
              "  }\n",
              "\n",
              "  .colab-df-quickchart:hover {\n",
              "    background-color: #E2EBFA;\n",
              "    box-shadow: 0px 1px 2px rgba(60, 64, 67, 0.3), 0px 1px 3px 1px rgba(60, 64, 67, 0.15);\n",
              "    fill: #174EA6;\n",
              "  }\n",
              "\n",
              "  [theme=dark] .colab-df-quickchart {\n",
              "    background-color: #3B4455;\n",
              "    fill: #D2E3FC;\n",
              "  }\n",
              "\n",
              "  [theme=dark] .colab-df-quickchart:hover {\n",
              "    background-color: #434B5C;\n",
              "    box-shadow: 0px 1px 3px 1px rgba(0, 0, 0, 0.15);\n",
              "    filter: drop-shadow(0px 1px 2px rgba(0, 0, 0, 0.3));\n",
              "    fill: #FFFFFF;\n",
              "  }\n",
              "</style>\n",
              "\n",
              "  <script>\n",
              "    async function quickchart(key) {\n",
              "      const charts = await google.colab.kernel.invokeFunction(\n",
              "          'suggestCharts', [key], {});\n",
              "    }\n",
              "    (() => {\n",
              "      let quickchartButtonEl =\n",
              "        document.querySelector('#df-fd918e58-746c-426b-b8f7-ac72e1332364 button');\n",
              "      quickchartButtonEl.style.display =\n",
              "        google.colab.kernel.accessAllowed ? 'block' : 'none';\n",
              "    })();\n",
              "  </script>\n",
              "</div>\n",
              "    </div>\n",
              "  </div>\n"
            ]
          },
          "metadata": {},
          "execution_count": 5
        }
      ],
      "source": [
        "steam_review.describe()"
      ]
    },
    {
      "cell_type": "markdown",
      "metadata": {
        "collapsed": false,
        "id": "uE7_T3__WFT6"
      },
      "source": [
        "**Data Preprocessing**"
      ]
    },
    {
      "cell_type": "markdown",
      "metadata": {
        "collapsed": false,
        "id": "jompYCuBWFT6"
      },
      "source": [
        "Checking if there are any null values present in the Dataset. We will be cleaning them out as they can affect our predections."
      ]
    },
    {
      "cell_type": "code",
      "execution_count": null,
      "metadata": {
        "colab": {
          "base_uri": "https://localhost:8080/"
        },
        "id": "vVLYpDSDWFT8",
        "outputId": "9621e745-9db9-41f3-f827-66294d8cf7c5"
      },
      "outputs": [
        {
          "output_type": "stream",
          "name": "stdout",
          "text": [
            "<class 'pandas.core.frame.DataFrame'>\n",
            "RangeIndex: 434891 entries, 0 to 434890\n",
            "Data columns (total 8 columns):\n",
            " #   Column                  Non-Null Count   Dtype \n",
            "---  ------                  --------------   ----- \n",
            " 0   date_posted             434891 non-null  object\n",
            " 1   funny                   434891 non-null  int64 \n",
            " 2   helpful                 434891 non-null  int64 \n",
            " 3   hour_played             434891 non-null  int64 \n",
            " 4   is_early_access_review  434891 non-null  bool  \n",
            " 5   recommendation          434891 non-null  object\n",
            " 6   review                  433375 non-null  object\n",
            " 7   title                   434891 non-null  object\n",
            "dtypes: bool(1), int64(3), object(4)\n",
            "memory usage: 23.6+ MB\n"
          ]
        }
      ],
      "source": [
        "steam_review.info()"
      ]
    },
    {
      "cell_type": "code",
      "execution_count": null,
      "metadata": {
        "colab": {
          "base_uri": "https://localhost:8080/"
        },
        "id": "LUuqYG7gWFT8",
        "outputId": "637002ee-29d1-44f0-cace-7f8323339220"
      },
      "outputs": [
        {
          "output_type": "execute_result",
          "data": {
            "text/plain": [
              "date_posted                  0\n",
              "funny                        0\n",
              "helpful                      0\n",
              "hour_played                  0\n",
              "is_early_access_review       0\n",
              "recommendation               0\n",
              "review                    1516\n",
              "title                        0\n",
              "dtype: int64"
            ]
          },
          "metadata": {},
          "execution_count": 7
        }
      ],
      "source": [
        "steam_review.isnull().sum()"
      ]
    },
    {
      "cell_type": "code",
      "execution_count": null,
      "metadata": {
        "id": "q_TiQ8lwWFT9"
      },
      "outputs": [],
      "source": [
        "steam_review = steam_review.dropna()"
      ]
    },
    {
      "cell_type": "code",
      "execution_count": null,
      "metadata": {
        "id": "r30PQ_m0WFT9",
        "outputId": "373396fd-0761-4ac7-d818-037c9445d18a",
        "colab": {
          "base_uri": "https://localhost:8080/"
        }
      },
      "outputs": [
        {
          "output_type": "execute_result",
          "data": {
            "text/plain": [
              "date_posted               0\n",
              "funny                     0\n",
              "helpful                   0\n",
              "hour_played               0\n",
              "is_early_access_review    0\n",
              "recommendation            0\n",
              "review                    0\n",
              "title                     0\n",
              "dtype: int64"
            ]
          },
          "metadata": {},
          "execution_count": 9
        }
      ],
      "source": [
        "steam_review.isnull().sum()"
      ]
    },
    {
      "cell_type": "code",
      "execution_count": null,
      "metadata": {
        "id": "ZdtIgg5bWFT9",
        "outputId": "a328f6b5-b6ac-4ac8-da5e-296c6e7ffc6b",
        "colab": {
          "base_uri": "https://localhost:8080/"
        }
      },
      "outputs": [
        {
          "output_type": "stream",
          "name": "stdout",
          "text": [
            "<class 'pandas.core.frame.DataFrame'>\n",
            "Int64Index: 433375 entries, 0 to 434890\n",
            "Data columns (total 8 columns):\n",
            " #   Column                  Non-Null Count   Dtype \n",
            "---  ------                  --------------   ----- \n",
            " 0   date_posted             433375 non-null  object\n",
            " 1   funny                   433375 non-null  int64 \n",
            " 2   helpful                 433375 non-null  int64 \n",
            " 3   hour_played             433375 non-null  int64 \n",
            " 4   is_early_access_review  433375 non-null  bool  \n",
            " 5   recommendation          433375 non-null  object\n",
            " 6   review                  433375 non-null  object\n",
            " 7   title                   433375 non-null  object\n",
            "dtypes: bool(1), int64(3), object(4)\n",
            "memory usage: 26.9+ MB\n"
          ]
        }
      ],
      "source": [
        "steam_review.info()"
      ]
    },
    {
      "cell_type": "code",
      "execution_count": null,
      "metadata": {
        "id": "KtAKVdCXWFT9",
        "outputId": "8764c11d-863e-4f27-d6ee-24999049ee48",
        "colab": {
          "base_uri": "https://localhost:8080/"
        }
      },
      "outputs": [
        {
          "output_type": "execute_result",
          "data": {
            "text/plain": [
              "Recommended        302751\n",
              "Not Recommended    130624\n",
              "Name: recommendation, dtype: int64"
            ]
          },
          "metadata": {},
          "execution_count": 11
        }
      ],
      "source": [
        "steam_review.recommendation.value_counts()\n"
      ]
    },
    {
      "cell_type": "markdown",
      "metadata": {
        "collapsed": false,
        "id": "5eCpNsbEWFT9"
      },
      "source": [
        "**Data Visualization**"
      ]
    },
    {
      "cell_type": "markdown",
      "metadata": {
        "collapsed": false,
        "id": "fUXEJYLzWFT9"
      },
      "source": [
        "Games Recommended Vs Not Recommended besed on the review"
      ]
    },
    {
      "cell_type": "code",
      "execution_count": null,
      "metadata": {
        "id": "aCjaUVVxWFT-",
        "outputId": "e53427a1-7a15-465f-ccdf-fc2486c6e591",
        "colab": {
          "base_uri": "https://localhost:8080/",
          "height": 487
        }
      },
      "outputs": [
        {
          "output_type": "display_data",
          "data": {
            "text/plain": [
              "<Figure size 640x480 with 1 Axes>"
            ],
            "image/png": "[encoded data removed]"
          },
          "metadata": {}
        }
      ],
      "source": [
        "graph_sizes = [steam_review.recommendation.value_counts()[0], steam_review.recommendation.value_counts()[1]]\n",
        "labels = [\"Recommended\", \"Not Recommended\"]\n",
        "\n",
        "explode = (0, 0.1)\n",
        "fig1, ax1 = plt.subplots()\n",
        "ax1.set_title('Games recommendation')\n",
        "ax1.pie(graph_sizes, explode=explode, labels=labels, autopct='%1.1f%%',\n",
        "        shadow=True, startangle=90)\n",
        "\n",
        "ax1.axis('equal')\n",
        "plt.tight_layout()\n",
        "plt.show()\n"
      ]
    },
    {
      "cell_type": "markdown",
      "metadata": {
        "collapsed": false,
        "id": "bkh1cZezWFT-"
      },
      "source": [
        "Hours Played Vs Number of Reviews"
      ]
    },
    {
      "cell_type": "code",
      "execution_count": null,
      "metadata": {
        "id": "hPcOh94GWFT-",
        "outputId": "2e1c703f-8d29-49ca-8970-03ad461c1284",
        "colab": {
          "base_uri": "https://localhost:8080/",
          "height": 722
        }
      },
      "outputs": [
        {
          "output_type": "execute_result",
          "data": {
            "text/plain": [
              "Text(0, 0.5, 'Number of reviews')"
            ]
          },
          "metadata": {},
          "execution_count": 13
        },
        {
          "output_type": "display_data",
          "data": {
            "text/plain": [
              "<Figure size 1300x800 with 1 Axes>"
            ],
            "image/png": "[encoded data removed]"
          },
          "metadata": {}
        }
      ],
      "source": [
        "steam_review['hour_played_reviews'] = steam_review.groupby('hour_played')['hour_played'].transform('count')\n",
        "x = steam_review.hour_played\n",
        "y = steam_review['hour_played_reviews']\n",
        "fig = plt.figure(figsize = (13,8))\n",
        "ax = fig.add_axes([0.1, 0.1, 0.8, 0.8])\n",
        "ax.scatter(x,y)\n",
        "ax.set_title('Dependence of the number of ratings on the duration of the game')\n",
        "ax.set_xlabel('Hours played')\n",
        "ax.set_ylabel('Number of reviews')\n"
      ]
    },
    {
      "cell_type": "markdown",
      "metadata": {
        "collapsed": false,
        "id": "5gfdIy_4WFT-"
      },
      "source": [
        "**Top 10 Most Reviewed Games**"
      ]
    },
    {
      "cell_type": "code",
      "execution_count": null,
      "metadata": {
        "id": "ZMOjTcxFWFT-",
        "outputId": "8b9186f3-9235-4245-ffcf-321da567232f",
        "colab": {
          "base_uri": "https://localhost:8080/"
        }
      },
      "outputs": [
        {
          "output_type": "stream",
          "name": "stdout",
          "text": [
            "Top 10 games are\n",
            "\n",
            " PLAYERUNKNOWN'S BATTLEGROUNDS                  144846\n",
            "Grand Theft Auto V                              99677\n",
            "Rust                                            70907\n",
            "Rocket League®                                  67765\n",
            "Dead by Daylight                                22178\n",
            "MONSTER HUNTER: WORLD                           18390\n",
            "ASTRONEER                                        2658\n",
            "The Elder Scrolls V: Skyrim Special Edition      1471\n",
            "RESIDENT EVIL 2 / BIOHAZARD RE:2                 1384\n",
            "Sid Meier’s Civilization® VI                      522\n",
            "Name: title, dtype: int64\n"
          ]
        }
      ],
      "source": [
        "top_games = steam_review.title.value_counts()\n",
        "print(\"Top 10 games are\\n\\n\",steam_review.title.value_counts()[:10])"
      ]
    },
    {
      "cell_type": "markdown",
      "source": [
        "Creating new Coloumn To Label encode Recommendation"
      ],
      "metadata": {
        "id": "8J6-PVFMuJvj"
      }
    },
    {
      "cell_type": "code",
      "execution_count": null,
      "metadata": {
        "id": "vIGqOT5RWFT_"
      },
      "outputs": [],
      "source": [
        "steam_review['review_length'] = steam_review.apply(lambda row: len(str(row['review'])), axis=1)\n",
        "\n",
        "steam_review['recommendation_int'] = steam_review['recommendation'] == 'Recommended'\n",
        "steam_review['recommendation_int'] = steam_review['recommendation_int'].astype(int)"
      ]
    },
    {
      "cell_type": "markdown",
      "metadata": {
        "collapsed": false,
        "id": "9ABOfmDNWFT-"
      },
      "source": [
        "Plot of each game Vs the number of positive and negative reviews"
      ]
    },
    {
      "cell_type": "code",
      "execution_count": null,
      "metadata": {
        "id": "hsUcjMBKWFT-",
        "outputId": "2a7d11c0-ce5a-4253-a50c-1d9e3eee789f",
        "colab": {
          "base_uri": "https://localhost:8080/",
          "height": 772
        }
      },
      "outputs": [
        {
          "output_type": "execute_result",
          "data": {
            "text/plain": [
              "<matplotlib.legend.Legend at 0x78012c91a230>"
            ]
          },
          "metadata": {},
          "execution_count": 18
        },
        {
          "output_type": "display_data",
          "data": {
            "text/plain": [
              "<Figure size 2500x2000 with 1 Axes>"
            ],
            "image/png": "[encoded data removed]"
          },
          "metadata": {}
        }
      ],
      "source": [
        "reviews_count = steam_review.groupby(['title'])['review'].count().sort_values(ascending=False)\n",
        "\n",
        "reviews_count = reviews_count.reset_index()\n",
        "\n",
        "sns.set(style=\"darkgrid\")\n",
        "plt.figure(figsize=(25,20))\n",
        "sns.barplot(y=reviews_count['title'], x=reviews_count['review'], data=reviews_count,\n",
        "            label=\"Total Reviews\", color=\"r\")\n",
        "\n",
        "reviews_count_pos = steam_review.groupby(['title', 'recommendation_int'])['review'].count().sort_values(ascending=False)\n",
        "reviews_count_pos = reviews_count_pos.reset_index()\n",
        "reviews_count_pos = reviews_count_pos[reviews_count_pos['recommendation_int'] == 1]\n",
        "sns.barplot(y=reviews_count_pos['title'], x=reviews_count_pos['review'], data=reviews_count_pos,\n",
        "            label=\"Recommended Reviews\", color=\"b\")\n",
        "plt.legend()\n"
      ]
    },
    {
      "cell_type": "markdown",
      "metadata": {
        "collapsed": false,
        "id": "-SXYKWc6WFT_"
      },
      "source": [
        "Assigning integer value for recommended and not recommended as it will be easier for working."
      ]
    },
    {
      "cell_type": "code",
      "execution_count": null,
      "metadata": {
        "colab": {
          "base_uri": "https://localhost:8080/",
          "height": 1000
        },
        "id": "VgFPQF6xWFT_",
        "outputId": "419872e2-ed66-45a2-a62c-6ff24551523f"
      },
      "outputs": [
        {
          "data": {
            "text/html": [
              "\n",
              "  <div id=\"df-0ffee7f7-9c2f-4120-a9d0-80895a4e3c1c\" class=\"colab-df-container\">\n",
              "    <div>\n",
              "<style scoped>\n",
              "    .dataframe tbody tr th:only-of-type {\n",
              "        vertical-align: middle;\n",
              "    }\n",
              "\n",
              "    .dataframe tbody tr th {\n",
              "        vertical-align: top;\n",
              "    }\n",
              "\n",
              "    .dataframe thead th {\n",
              "        text-align: right;\n",
              "    }\n",
              "</style>\n",
              "<table border=\"1\" class=\"dataframe\">\n",
              "  <thead>\n",
              "    <tr style=\"text-align: right;\">\n",
              "      <th></th>\n",
              "      <th>date_posted</th>\n",
              "      <th>funny</th>\n",
              "      <th>helpful</th>\n",
              "      <th>hour_played</th>\n",
              "      <th>is_early_access_review</th>\n",
              "      <th>recommendation</th>\n",
              "      <th>review</th>\n",
              "      <th>title</th>\n",
              "      <th>review_length</th>\n",
              "      <th>recommendation_int</th>\n",
              "    </tr>\n",
              "  </thead>\n",
              "  <tbody>\n",
              "    <tr>\n",
              "      <th>0</th>\n",
              "      <td>2019-02-10</td>\n",
              "      <td>2</td>\n",
              "      <td>4</td>\n",
              "      <td>578</td>\n",
              "      <td>False</td>\n",
              "      <td>Recommended</td>\n",
              "      <td>&amp;gt Played as German Reich&amp;gt Declare war on B...</td>\n",
              "      <td>Expansion - Hearts of Iron IV: Man the Guns</td>\n",
              "      <td>195</td>\n",
              "      <td>1</td>\n",
              "    </tr>\n",
              "    <tr>\n",
              "      <th>1</th>\n",
              "      <td>2019-02-10</td>\n",
              "      <td>0</td>\n",
              "      <td>0</td>\n",
              "      <td>184</td>\n",
              "      <td>False</td>\n",
              "      <td>Recommended</td>\n",
              "      <td>yes.</td>\n",
              "      <td>Expansion - Hearts of Iron IV: Man the Guns</td>\n",
              "      <td>4</td>\n",
              "      <td>1</td>\n",
              "    </tr>\n",
              "    <tr>\n",
              "      <th>2</th>\n",
              "      <td>2019-02-07</td>\n",
              "      <td>0</td>\n",
              "      <td>0</td>\n",
              "      <td>892</td>\n",
              "      <td>False</td>\n",
              "      <td>Recommended</td>\n",
              "      <td>Very good game although a bit overpriced in my...</td>\n",
              "      <td>Expansion - Hearts of Iron IV: Man the Guns</td>\n",
              "      <td>171</td>\n",
              "      <td>1</td>\n",
              "    </tr>\n",
              "    <tr>\n",
              "      <th>3</th>\n",
              "      <td>2018-06-14</td>\n",
              "      <td>126</td>\n",
              "      <td>1086</td>\n",
              "      <td>676</td>\n",
              "      <td>False</td>\n",
              "      <td>Recommended</td>\n",
              "      <td>Out of all the reviews I wrote This one is pro...</td>\n",
              "      <td>Dead by Daylight</td>\n",
              "      <td>2094</td>\n",
              "      <td>1</td>\n",
              "    </tr>\n",
              "    <tr>\n",
              "      <th>4</th>\n",
              "      <td>2017-06-20</td>\n",
              "      <td>85</td>\n",
              "      <td>2139</td>\n",
              "      <td>612</td>\n",
              "      <td>False</td>\n",
              "      <td>Recommended</td>\n",
              "      <td>Disclaimer I survivor main. I play games for f...</td>\n",
              "      <td>Dead by Daylight</td>\n",
              "      <td>1397</td>\n",
              "      <td>1</td>\n",
              "    </tr>\n",
              "    <tr>\n",
              "      <th>...</th>\n",
              "      <td>...</td>\n",
              "      <td>...</td>\n",
              "      <td>...</td>\n",
              "      <td>...</td>\n",
              "      <td>...</td>\n",
              "      <td>...</td>\n",
              "      <td>...</td>\n",
              "      <td>...</td>\n",
              "      <td>...</td>\n",
              "      <td>...</td>\n",
              "    </tr>\n",
              "    <tr>\n",
              "      <th>434886</th>\n",
              "      <td>2018-11-17</td>\n",
              "      <td>1</td>\n",
              "      <td>37</td>\n",
              "      <td>10</td>\n",
              "      <td>False</td>\n",
              "      <td>Recommended</td>\n",
              "      <td>YOUR FLESH WILL ROT AND DECAY.STEEL IS IMMORTA...</td>\n",
              "      <td>Warhammer 40,000: Mechanicus</td>\n",
              "      <td>1977</td>\n",
              "      <td>1</td>\n",
              "    </tr>\n",
              "    <tr>\n",
              "      <th>434887</th>\n",
              "      <td>2018-11-17</td>\n",
              "      <td>3</td>\n",
              "      <td>41</td>\n",
              "      <td>38</td>\n",
              "      <td>False</td>\n",
              "      <td>Recommended</td>\n",
              "      <td>Domini and Dominae I believe what we are deali...</td>\n",
              "      <td>Warhammer 40,000: Mechanicus</td>\n",
              "      <td>2535</td>\n",
              "      <td>1</td>\n",
              "    </tr>\n",
              "    <tr>\n",
              "      <th>434888</th>\n",
              "      <td>2018-11-20</td>\n",
              "      <td>0</td>\n",
              "      <td>0</td>\n",
              "      <td>36</td>\n",
              "      <td>False</td>\n",
              "      <td>Recommended</td>\n",
              "      <td>First off if you like X Com style of games you...</td>\n",
              "      <td>Warhammer 40,000: Mechanicus</td>\n",
              "      <td>730</td>\n",
              "      <td>1</td>\n",
              "    </tr>\n",
              "    <tr>\n",
              "      <th>434889</th>\n",
              "      <td>2018-11-18</td>\n",
              "      <td>1</td>\n",
              "      <td>44</td>\n",
              "      <td>12</td>\n",
              "      <td>False</td>\n",
              "      <td>Recommended</td>\n",
              "      <td>As a disclaimer I'm an AdMech player on the ta...</td>\n",
              "      <td>Warhammer 40,000: Mechanicus</td>\n",
              "      <td>1789</td>\n",
              "      <td>1</td>\n",
              "    </tr>\n",
              "    <tr>\n",
              "      <th>434890</th>\n",
              "      <td>2019-01-21</td>\n",
              "      <td>1</td>\n",
              "      <td>28</td>\n",
              "      <td>20</td>\n",
              "      <td>False</td>\n",
              "      <td>Recommended</td>\n",
              "      <td>Don't listen to people who claim it's the game...</td>\n",
              "      <td>Warhammer 40,000: Mechanicus</td>\n",
              "      <td>1054</td>\n",
              "      <td>1</td>\n",
              "    </tr>\n",
              "  </tbody>\n",
              "</table>\n",
              "<p>433375 rows × 10 columns</p>\n",
              "</div>\n",
              "    <div class=\"colab-df-buttons\">\n",
              "\n",
              "  <div class=\"colab-df-container\">\n",
              "    <button class=\"colab-df-convert\" onclick=\"convertToInteractive('df-0ffee7f7-9c2f-4120-a9d0-80895a4e3c1c')\"\n",
              "            title=\"Convert this dataframe to an interactive table.\"\n",
              "            style=\"display:none;\">\n",
              "\n",
              "  <svg xmlns=\"http://www.w3.org/2000/svg\" height=\"24px\" viewBox=\"0 -960 960 960\">\n",
              "    <path d=\"M120-120v-720h720v720H120Zm60-500h600v-160H180v160Zm220 220h160v-160H400v160Zm0 220h160v-160H400v160ZM180-400h160v-160H180v160Zm440 0h160v-160H620v160ZM180-180h160v-160H180v160Zm440 0h160v-160H620v160Z\"/>\n",
              "  </svg>\n",
              "    </button>\n",
              "\n",
              "  <style>\n",
              "    .colab-df-container {\n",
              "      display:flex;\n",
              "      gap: 12px;\n",
              "    }\n",
              "\n",
              "    .colab-df-convert {\n",
              "      background-color: #E8F0FE;\n",
              "      border: none;\n",
              "      border-radius: 50%;\n",
              "      cursor: pointer;\n",
              "      display: none;\n",
              "      fill: #1967D2;\n",
              "      height: 32px;\n",
              "      padding: 0 0 0 0;\n",
              "      width: 32px;\n",
              "    }\n",
              "\n",
              "    .colab-df-convert:hover {\n",
              "      background-color: #E2EBFA;\n",
              "      box-shadow: 0px 1px 2px rgba(60, 64, 67, 0.3), 0px 1px 3px 1px rgba(60, 64, 67, 0.15);\n",
              "      fill: #174EA6;\n",
              "    }\n",
              "\n",
              "    .colab-df-buttons div {\n",
              "      margin-bottom: 4px;\n",
              "    }\n",
              "\n",
              "    [theme=dark] .colab-df-convert {\n",
              "      background-color: #3B4455;\n",
              "      fill: #D2E3FC;\n",
              "    }\n",
              "\n",
              "    [theme=dark] .colab-df-convert:hover {\n",
              "      background-color: #434B5C;\n",
              "      box-shadow: 0px 1px 3px 1px rgba(0, 0, 0, 0.15);\n",
              "      filter: drop-shadow(0px 1px 2px rgba(0, 0, 0, 0.3));\n",
              "      fill: #FFFFFF;\n",
              "    }\n",
              "  </style>\n",
              "\n",
              "    <script>\n",
              "      const buttonEl =\n",
              "        document.querySelector('#df-0ffee7f7-9c2f-4120-a9d0-80895a4e3c1c button.colab-df-convert');\n",
              "      buttonEl.style.display =\n",
              "        google.colab.kernel.accessAllowed ? 'block' : 'none';\n",
              "\n",
              "      async function convertToInteractive(key) {\n",
              "        const element = document.querySelector('#df-0ffee7f7-9c2f-4120-a9d0-80895a4e3c1c');\n",
              "        const dataTable =\n",
              "          await google.colab.kernel.invokeFunction('convertToInteractive',\n",
              "                                                    [key], {});\n",
              "        if (!dataTable) return;\n",
              "\n",
              "        const docLinkHtml = 'Like what you see? Visit the ' +\n",
              "          '<a target=\"_blank\" href=https://colab.research.google.com/notebooks/data_table.ipynb>data table notebook</a>'\n",
              "          + ' to learn more about interactive tables.';\n",
              "        element.innerHTML = '';\n",
              "        dataTable['output_type'] = 'display_data';\n",
              "        await google.colab.output.renderOutput(dataTable, element);\n",
              "        const docLink = document.createElement('div');\n",
              "        docLink.innerHTML = docLinkHtml;\n",
              "        element.appendChild(docLink);\n",
              "      }\n",
              "    </script>\n",
              "  </div>\n",
              "\n",
              "\n",
              "<div id=\"df-7cfa7d81-8da9-4f5d-aaca-79f4d8d93b02\">\n",
              "  <button class=\"colab-df-quickchart\" onclick=\"quickchart('df-7cfa7d81-8da9-4f5d-aaca-79f4d8d93b02')\"\n",
              "            title=\"Suggest charts.\"\n",
              "            style=\"display:none;\">\n",
              "\n",
              "<svg xmlns=\"http://www.w3.org/2000/svg\" height=\"24px\"viewBox=\"0 0 24 24\"\n",
              "     width=\"24px\">\n",
              "    <g>\n",
              "        <path d=\"M19 3H5c-1.1 0-2 .9-2 2v14c0 1.1.9 2 2 2h14c1.1 0 2-.9 2-2V5c0-1.1-.9-2-2-2zM9 17H7v-7h2v7zm4 0h-2V7h2v10zm4 0h-2v-4h2v4z\"/>\n",
              "    </g>\n",
              "</svg>\n",
              "  </button>\n",
              "\n",
              "<style>\n",
              "  .colab-df-quickchart {\n",
              "    background-color: #E8F0FE;\n",
              "    border: none;\n",
              "    border-radius: 50%;\n",
              "    cursor: pointer;\n",
              "    display: none;\n",
              "    fill: #1967D2;\n",
              "    height: 32px;\n",
              "    padding: 0 0 0 0;\n",
              "    width: 32px;\n",
              "  }\n",
              "\n",
              "  .colab-df-quickchart:hover {\n",
              "    background-color: #E2EBFA;\n",
              "    box-shadow: 0px 1px 2px rgba(60, 64, 67, 0.3), 0px 1px 3px 1px rgba(60, 64, 67, 0.15);\n",
              "    fill: #174EA6;\n",
              "  }\n",
              "\n",
              "  [theme=dark] .colab-df-quickchart {\n",
              "    background-color: #3B4455;\n",
              "    fill: #D2E3FC;\n",
              "  }\n",
              "\n",
              "  [theme=dark] .colab-df-quickchart:hover {\n",
              "    background-color: #434B5C;\n",
              "    box-shadow: 0px 1px 3px 1px rgba(0, 0, 0, 0.15);\n",
              "    filter: drop-shadow(0px 1px 2px rgba(0, 0, 0, 0.3));\n",
              "    fill: #FFFFFF;\n",
              "  }\n",
              "</style>\n",
              "\n",
              "  <script>\n",
              "    async function quickchart(key) {\n",
              "      const charts = await google.colab.kernel.invokeFunction(\n",
              "          'suggestCharts', [key], {});\n",
              "    }\n",
              "    (() => {\n",
              "      let quickchartButtonEl =\n",
              "        document.querySelector('#df-7cfa7d81-8da9-4f5d-aaca-79f4d8d93b02 button');\n",
              "      quickchartButtonEl.style.display =\n",
              "        google.colab.kernel.accessAllowed ? 'block' : 'none';\n",
              "    })();\n",
              "  </script>\n",
              "</div>\n",
              "    </div>\n",
              "  </div>\n"
            ],
            "text/plain": [
              "       date_posted  funny  helpful  hour_played  is_early_access_review  \\\n",
              "0       2019-02-10      2        4          578                   False   \n",
              "1       2019-02-10      0        0          184                   False   \n",
              "2       2019-02-07      0        0          892                   False   \n",
              "3       2018-06-14    126     1086          676                   False   \n",
              "4       2017-06-20     85     2139          612                   False   \n",
              "...            ...    ...      ...          ...                     ...   \n",
              "434886  2018-11-17      1       37           10                   False   \n",
              "434887  2018-11-17      3       41           38                   False   \n",
              "434888  2018-11-20      0        0           36                   False   \n",
              "434889  2018-11-18      1       44           12                   False   \n",
              "434890  2019-01-21      1       28           20                   False   \n",
              "\n",
              "       recommendation                                             review  \\\n",
              "0         Recommended  &gt Played as German Reich&gt Declare war on B...   \n",
              "1         Recommended                                               yes.   \n",
              "2         Recommended  Very good game although a bit overpriced in my...   \n",
              "3         Recommended  Out of all the reviews I wrote This one is pro...   \n",
              "4         Recommended  Disclaimer I survivor main. I play games for f...   \n",
              "...               ...                                                ...   \n",
              "434886    Recommended  YOUR FLESH WILL ROT AND DECAY.STEEL IS IMMORTA...   \n",
              "434887    Recommended  Domini and Dominae I believe what we are deali...   \n",
              "434888    Recommended  First off if you like X Com style of games you...   \n",
              "434889    Recommended  As a disclaimer I'm an AdMech player on the ta...   \n",
              "434890    Recommended  Don't listen to people who claim it's the game...   \n",
              "\n",
              "                                              title  review_length  \\\n",
              "0       Expansion - Hearts of Iron IV: Man the Guns            195   \n",
              "1       Expansion - Hearts of Iron IV: Man the Guns              4   \n",
              "2       Expansion - Hearts of Iron IV: Man the Guns            171   \n",
              "3                                  Dead by Daylight           2094   \n",
              "4                                  Dead by Daylight           1397   \n",
              "...                                             ...            ...   \n",
              "434886                 Warhammer 40,000: Mechanicus           1977   \n",
              "434887                 Warhammer 40,000: Mechanicus           2535   \n",
              "434888                 Warhammer 40,000: Mechanicus            730   \n",
              "434889                 Warhammer 40,000: Mechanicus           1789   \n",
              "434890                 Warhammer 40,000: Mechanicus           1054   \n",
              "\n",
              "        recommendation_int  \n",
              "0                        1  \n",
              "1                        1  \n",
              "2                        1  \n",
              "3                        1  \n",
              "4                        1  \n",
              "...                    ...  \n",
              "434886                   1  \n",
              "434887                   1  \n",
              "434888                   1  \n",
              "434889                   1  \n",
              "434890                   1  \n",
              "\n",
              "[433375 rows x 10 columns]"
            ]
          },
          "execution_count": 11,
          "metadata": {},
          "output_type": "execute_result"
        }
      ],
      "source": [
        "steam_review"
      ]
    },
    {
      "cell_type": "code",
      "execution_count": null,
      "metadata": {
        "colab": {
          "base_uri": "https://localhost:8080/"
        },
        "id": "8e3Yl0VQWFT_",
        "outputId": "35b8a771-8313-4842-8d85-05b1e5ca136b"
      },
      "outputs": [
        {
          "name": "stdout",
          "output_type": "stream",
          "text": [
            "<class 'pandas.core.frame.DataFrame'>\n",
            "Int64Index: 433375 entries, 0 to 434890\n",
            "Data columns (total 10 columns):\n",
            " #   Column                  Non-Null Count   Dtype \n",
            "---  ------                  --------------   ----- \n",
            " 0   date_posted             433375 non-null  object\n",
            " 1   funny                   433375 non-null  int64 \n",
            " 2   helpful                 433375 non-null  int64 \n",
            " 3   hour_played             433375 non-null  int64 \n",
            " 4   is_early_access_review  433375 non-null  bool  \n",
            " 5   recommendation          433375 non-null  object\n",
            " 6   review                  433375 non-null  object\n",
            " 7   title                   433375 non-null  object\n",
            " 8   review_length           433375 non-null  int64 \n",
            " 9   recommendation_int      433375 non-null  int64 \n",
            "dtypes: bool(1), int64(5), object(4)\n",
            "memory usage: 33.5+ MB\n"
          ]
        }
      ],
      "source": [
        "steam_review.info()"
      ]
    },
    {
      "cell_type": "markdown",
      "metadata": {
        "collapsed": false,
        "id": "lK_2wPbuWFT_"
      },
      "source": [
        "**Data Cleaning**"
      ]
    },
    {
      "cell_type": "markdown",
      "metadata": {
        "collapsed": false,
        "id": "2DR3bhpqWFT_"
      },
      "source": [
        "Converting all the reviews to lower case and removing special characters"
      ]
    },
    {
      "cell_type": "code",
      "execution_count": null,
      "metadata": {
        "id": "3coOH3m0WFT_"
      },
      "outputs": [],
      "source": [
        "steam_review['review'] = [review.strip().lower() for review in steam_review['review']]\n",
        "steam_review['review'] = steam_review['review'].replace(r\"[^a-zA-Z\\d\\_\\+\\-\\'\\.\\/\\s]+\", ' ', regex = True)\n",
        "steam_review['review'] = steam_review['review'].replace([\"./ \", \"' \", \" '\"], \" \", regex = True)"
      ]
    },
    {
      "cell_type": "code",
      "execution_count": null,
      "metadata": {
        "id": "aWDsp-dzWFT_"
      },
      "outputs": [],
      "source": [
        "stemmer=PorterStemmer()\n",
        "for i in range(len(steam_review['review'])):\n",
        "  words = word_tokenize(steam_review.iloc[i,6])\n",
        "  sentence = [stemmer.stem(j) for j in words]\n",
        "  steam_review.iloc[i,6] = ' '.join(sentence)"
      ]
    },
    {
      "cell_type": "code",
      "execution_count": null,
      "metadata": {
        "id": "1UoKu8eQWFT_",
        "outputId": "372cfc35-c569-43b5-fcf3-ecb94061af21",
        "colab": {
          "base_uri": "https://localhost:8080/",
          "height": 694
        }
      },
      "outputs": [
        {
          "output_type": "execute_result",
          "data": {
            "text/plain": [
              "  date_posted  funny  helpful  hour_played  is_early_access_review  \\\n",
              "0  2019-02-10      2        4          578                   False   \n",
              "1  2019-02-10      0        0          184                   False   \n",
              "2  2019-02-07      0        0          892                   False   \n",
              "3  2018-06-14    126     1086          676                   False   \n",
              "4  2017-06-20     85     2139          612                   False   \n",
              "\n",
              "  recommendation                                             review  \\\n",
              "0    Recommended  gt play a german reich gt declar war on belgiu...   \n",
              "1    Recommended                                               ye .   \n",
              "2    Recommended  veri good game although a bit overpr in my opi...   \n",
              "3    Recommended  out of all the review i wrote thi one is proba...   \n",
              "4    Recommended  disclaim i survivor main . i play game for fun...   \n",
              "\n",
              "                                         title  review_length  \\\n",
              "0  Expansion - Hearts of Iron IV: Man the Guns            195   \n",
              "1  Expansion - Hearts of Iron IV: Man the Guns              4   \n",
              "2  Expansion - Hearts of Iron IV: Man the Guns            171   \n",
              "3                             Dead by Daylight           2094   \n",
              "4                             Dead by Daylight           1397   \n",
              "\n",
              "   recommendation_int  \n",
              "0                   1  \n",
              "1                   1  \n",
              "2                   1  \n",
              "3                   1  \n",
              "4                   1  "
            ],
            "text/html": [
              "\n",
              "  <div id=\"df-f11bc0b9-435a-4f6f-b326-85db8b66ecda\" class=\"colab-df-container\">\n",
              "    <div>\n",
              "<style scoped>\n",
              "    .dataframe tbody tr th:only-of-type {\n",
              "        vertical-align: middle;\n",
              "    }\n",
              "\n",
              "    .dataframe tbody tr th {\n",
              "        vertical-align: top;\n",
              "    }\n",
              "\n",
              "    .dataframe thead th {\n",
              "        text-align: right;\n",
              "    }\n",
              "</style>\n",
              "<table border=\"1\" class=\"dataframe\">\n",
              "  <thead>\n",
              "    <tr style=\"text-align: right;\">\n",
              "      <th></th>\n",
              "      <th>date_posted</th>\n",
              "      <th>funny</th>\n",
              "      <th>helpful</th>\n",
              "      <th>hour_played</th>\n",
              "      <th>is_early_access_review</th>\n",
              "      <th>recommendation</th>\n",
              "      <th>review</th>\n",
              "      <th>title</th>\n",
              "      <th>review_length</th>\n",
              "      <th>recommendation_int</th>\n",
              "    </tr>\n",
              "  </thead>\n",
              "  <tbody>\n",
              "    <tr>\n",
              "      <th>0</th>\n",
              "      <td>2019-02-10</td>\n",
              "      <td>2</td>\n",
              "      <td>4</td>\n",
              "      <td>578</td>\n",
              "      <td>False</td>\n",
              "      <td>Recommended</td>\n",
              "      <td>gt play a german reich gt declar war on belgiu...</td>\n",
              "      <td>Expansion - Hearts of Iron IV: Man the Guns</td>\n",
              "      <td>195</td>\n",
              "      <td>1</td>\n",
              "    </tr>\n",
              "    <tr>\n",
              "      <th>1</th>\n",
              "      <td>2019-02-10</td>\n",
              "      <td>0</td>\n",
              "      <td>0</td>\n",
              "      <td>184</td>\n",
              "      <td>False</td>\n",
              "      <td>Recommended</td>\n",
              "      <td>ye .</td>\n",
              "      <td>Expansion - Hearts of Iron IV: Man the Guns</td>\n",
              "      <td>4</td>\n",
              "      <td>1</td>\n",
              "    </tr>\n",
              "    <tr>\n",
              "      <th>2</th>\n",
              "      <td>2019-02-07</td>\n",
              "      <td>0</td>\n",
              "      <td>0</td>\n",
              "      <td>892</td>\n",
              "      <td>False</td>\n",
              "      <td>Recommended</td>\n",
              "      <td>veri good game although a bit overpr in my opi...</td>\n",
              "      <td>Expansion - Hearts of Iron IV: Man the Guns</td>\n",
              "      <td>171</td>\n",
              "      <td>1</td>\n",
              "    </tr>\n",
              "    <tr>\n",
              "      <th>3</th>\n",
              "      <td>2018-06-14</td>\n",
              "      <td>126</td>\n",
              "      <td>1086</td>\n",
              "      <td>676</td>\n",
              "      <td>False</td>\n",
              "      <td>Recommended</td>\n",
              "      <td>out of all the review i wrote thi one is proba...</td>\n",
              "      <td>Dead by Daylight</td>\n",
              "      <td>2094</td>\n",
              "      <td>1</td>\n",
              "    </tr>\n",
              "    <tr>\n",
              "      <th>4</th>\n",
              "      <td>2017-06-20</td>\n",
              "      <td>85</td>\n",
              "      <td>2139</td>\n",
              "      <td>612</td>\n",
              "      <td>False</td>\n",
              "      <td>Recommended</td>\n",
              "      <td>disclaim i survivor main . i play game for fun...</td>\n",
              "      <td>Dead by Daylight</td>\n",
              "      <td>1397</td>\n",
              "      <td>1</td>\n",
              "    </tr>\n",
              "  </tbody>\n",
              "</table>\n",
              "</div>\n",
              "    <div class=\"colab-df-buttons\">\n",
              "\n",
              "  <div class=\"colab-df-container\">\n",
              "    <button class=\"colab-df-convert\" onclick=\"convertToInteractive('df-f11bc0b9-435a-4f6f-b326-85db8b66ecda')\"\n",
              "            title=\"Convert this dataframe to an interactive table.\"\n",
              "            style=\"display:none;\">\n",
              "\n",
              "  <svg xmlns=\"http://www.w3.org/2000/svg\" height=\"24px\" viewBox=\"0 -960 960 960\">\n",
              "    <path d=\"M120-120v-720h720v720H120Zm60-500h600v-160H180v160Zm220 220h160v-160H400v160Zm0 220h160v-160H400v160ZM180-400h160v-160H180v160Zm440 0h160v-160H620v160ZM180-180h160v-160H180v160Zm440 0h160v-160H620v160Z\"/>\n",
              "  </svg>\n",
              "    </button>\n",
              "\n",
              "  <style>\n",
              "    .colab-df-container {\n",
              "      display:flex;\n",
              "      gap: 12px;\n",
              "    }\n",
              "\n",
              "    .colab-df-convert {\n",
              "      background-color: #E8F0FE;\n",
              "      border: none;\n",
              "      border-radius: 50%;\n",
              "      cursor: pointer;\n",
              "      display: none;\n",
              "      fill: #1967D2;\n",
              "      height: 32px;\n",
              "      padding: 0 0 0 0;\n",
              "      width: 32px;\n",
              "    }\n",
              "\n",
              "    .colab-df-convert:hover {\n",
              "      background-color: #E2EBFA;\n",
              "      box-shadow: 0px 1px 2px rgba(60, 64, 67, 0.3), 0px 1px 3px 1px rgba(60, 64, 67, 0.15);\n",
              "      fill: #174EA6;\n",
              "    }\n",
              "\n",
              "    .colab-df-buttons div {\n",
              "      margin-bottom: 4px;\n",
              "    }\n",
              "\n",
              "    [theme=dark] .colab-df-convert {\n",
              "      background-color: #3B4455;\n",
              "      fill: #D2E3FC;\n",
              "    }\n",
              "\n",
              "    [theme=dark] .colab-df-convert:hover {\n",
              "      background-color: #434B5C;\n",
              "      box-shadow: 0px 1px 3px 1px rgba(0, 0, 0, 0.15);\n",
              "      filter: drop-shadow(0px 1px 2px rgba(0, 0, 0, 0.3));\n",
              "      fill: #FFFFFF;\n",
              "    }\n",
              "  </style>\n",
              "\n",
              "    <script>\n",
              "      const buttonEl =\n",
              "        document.querySelector('#df-f11bc0b9-435a-4f6f-b326-85db8b66ecda button.colab-df-convert');\n",
              "      buttonEl.style.display =\n",
              "        google.colab.kernel.accessAllowed ? 'block' : 'none';\n",
              "\n",
              "      async function convertToInteractive(key) {\n",
              "        const element = document.querySelector('#df-f11bc0b9-435a-4f6f-b326-85db8b66ecda');\n",
              "        const dataTable =\n",
              "          await google.colab.kernel.invokeFunction('convertToInteractive',\n",
              "                                                    [key], {});\n",
              "        if (!dataTable) return;\n",
              "\n",
              "        const docLinkHtml = 'Like what you see? Visit the ' +\n",
              "          '<a target=\"_blank\" href=https://colab.research.google.com/notebooks/data_table.ipynb>data table notebook</a>'\n",
              "          + ' to learn more about interactive tables.';\n",
              "        element.innerHTML = '';\n",
              "        dataTable['output_type'] = 'display_data';\n",
              "        await google.colab.output.renderOutput(dataTable, element);\n",
              "        const docLink = document.createElement('div');\n",
              "        docLink.innerHTML = docLinkHtml;\n",
              "        element.appendChild(docLink);\n",
              "      }\n",
              "    </script>\n",
              "  </div>\n",
              "\n",
              "\n",
              "<div id=\"df-7a8374fc-e77e-44f4-ad9b-3436208cf50e\">\n",
              "  <button class=\"colab-df-quickchart\" onclick=\"quickchart('df-7a8374fc-e77e-44f4-ad9b-3436208cf50e')\"\n",
              "            title=\"Suggest charts.\"\n",
              "            style=\"display:none;\">\n",
              "\n",
              "<svg xmlns=\"http://www.w3.org/2000/svg\" height=\"24px\"viewBox=\"0 0 24 24\"\n",
              "     width=\"24px\">\n",
              "    <g>\n",
              "        <path d=\"M19 3H5c-1.1 0-2 .9-2 2v14c0 1.1.9 2 2 2h14c1.1 0 2-.9 2-2V5c0-1.1-.9-2-2-2zM9 17H7v-7h2v7zm4 0h-2V7h2v10zm4 0h-2v-4h2v4z\"/>\n",
              "    </g>\n",
              "</svg>\n",
              "  </button>\n",
              "\n",
              "<style>\n",
              "  .colab-df-quickchart {\n",
              "    background-color: #E8F0FE;\n",
              "    border: none;\n",
              "    border-radius: 50%;\n",
              "    cursor: pointer;\n",
              "    display: none;\n",
              "    fill: #1967D2;\n",
              "    height: 32px;\n",
              "    padding: 0 0 0 0;\n",
              "    width: 32px;\n",
              "  }\n",
              "\n",
              "  .colab-df-quickchart:hover {\n",
              "    background-color: #E2EBFA;\n",
              "    box-shadow: 0px 1px 2px rgba(60, 64, 67, 0.3), 0px 1px 3px 1px rgba(60, 64, 67, 0.15);\n",
              "    fill: #174EA6;\n",
              "  }\n",
              "\n",
              "  [theme=dark] .colab-df-quickchart {\n",
              "    background-color: #3B4455;\n",
              "    fill: #D2E3FC;\n",
              "  }\n",
              "\n",
              "  [theme=dark] .colab-df-quickchart:hover {\n",
              "    background-color: #434B5C;\n",
              "    box-shadow: 0px 1px 3px 1px rgba(0, 0, 0, 0.15);\n",
              "    filter: drop-shadow(0px 1px 2px rgba(0, 0, 0, 0.3));\n",
              "    fill: #FFFFFF;\n",
              "  }\n",
              "</style>\n",
              "\n",
              "  <script>\n",
              "    async function quickchart(key) {\n",
              "      const charts = await google.colab.kernel.invokeFunction(\n",
              "          'suggestCharts', [key], {});\n",
              "    }\n",
              "    (() => {\n",
              "      let quickchartButtonEl =\n",
              "        document.querySelector('#df-7a8374fc-e77e-44f4-ad9b-3436208cf50e button');\n",
              "      quickchartButtonEl.style.display =\n",
              "        google.colab.kernel.accessAllowed ? 'block' : 'none';\n",
              "    })();\n",
              "  </script>\n",
              "</div>\n",
              "    </div>\n",
              "  </div>\n"
            ]
          },
          "metadata": {},
          "execution_count": 46
        }
      ],
      "source": [
        "steam_review.head()\n"
      ]
    },
    {
      "cell_type": "markdown",
      "metadata": {
        "collapsed": false,
        "id": "Kqvh0GRLWFUA"
      },
      "source": [
        "**Building Classification Model**"
      ]
    },
    {
      "cell_type": "markdown",
      "metadata": {
        "collapsed": false,
        "id": "LYSNZupEWFUA"
      },
      "source": [
        "We will be diving the data into Train data, Test data and Dev data using train_test_split."
      ]
    },
    {
      "cell_type": "code",
      "execution_count": null,
      "metadata": {
        "id": "42LCcdaSWFUA"
      },
      "outputs": [],
      "source": [
        "data_frame = steam_review"
      ]
    },
    {
      "cell_type": "code",
      "execution_count": null,
      "metadata": {
        "id": "ZInmNR2uWFUA"
      },
      "outputs": [],
      "source": [
        "data_frame, test_data = train_test_split(data_frame, test_size=0.20)"
      ]
    },
    {
      "cell_type": "code",
      "execution_count": null,
      "metadata": {
        "id": "Ouaqei7eWFUA"
      },
      "outputs": [],
      "source": [
        "train_data, dev_data = train_test_split(data_frame, test_size=0.20)"
      ]
    },
    {
      "cell_type": "code",
      "execution_count": null,
      "metadata": {
        "id": "JdnBziNPWFUA",
        "outputId": "a7858958-b275-4442-eb7b-82ba9a5cd27d",
        "colab": {
          "base_uri": "https://localhost:8080/",
          "height": 559
        }
      },
      "outputs": [
        {
          "output_type": "execute_result",
          "data": {
            "text/plain": [
              "Text(0.5, 0, 'Rating')"
            ]
          },
          "metadata": {},
          "execution_count": 50
        },
        {
          "output_type": "display_data",
          "data": {
            "text/plain": [
              "<Figure size 1700x800 with 3 Axes>"
            ],
            "image/png": "[encoded data removed]"
          },
          "metadata": {}
        }
      ],
      "source": [
        "fig, axes = plt.subplots(ncols=3)\n",
        "\n",
        "plot1 = train_data.recommendation_int.value_counts().sort_index().plot(kind='bar', legend=True, rot=0, ax=axes[0])\n",
        "plot1.set_title(\"Train\")\n",
        "plot1.set_xlabel(\"Rating\")\n",
        "plot1.set_ylabel(\"number of rating\")\n",
        "plot2 = test_data.recommendation_int.value_counts().sort_index().plot(kind='bar', legend=True, rot=0, ax=axes[1])\n",
        "plot2.set_title(\"Test\")\n",
        "plot2.set_xlabel(\"Rating\")\n",
        "plot3 = dev_data.recommendation_int.value_counts().sort_index().plot(kind='bar', legend=True, rot=0,figsize=(17, 8))\n",
        "plot3.set_title(\"Dev\")\n",
        "plot3.set_xlabel(\"Rating\")"
      ]
    },
    {
      "cell_type": "markdown",
      "metadata": {
        "collapsed": false,
        "id": "yAn3qcw8WFUA"
      },
      "source": [
        "For text analysis the best classifiers are Naive Bayes, Support Vector Machine and Random Forest Classifier"
      ]
    },
    {
      "cell_type": "markdown",
      "metadata": {
        "collapsed": false,
        "id": "_VXDvL5vWFUB"
      },
      "source": [
        "But before we train our model we have to convert reviews to TF IDF form"
      ]
    },
    {
      "cell_type": "markdown",
      "metadata": {
        "collapsed": false,
        "id": "KPlfeZ_5WFUB"
      },
      "source": [
        "The formula that is used to compute the tf-idf is"
      ]
    },
    {
      "cell_type": "markdown",
      "metadata": {
        "collapsed": false,
        "id": "VwHDwQGhWFUB"
      },
      "source": [
        "tf-idf(t, d) = tf(t, d) * idf(t) and idf is computed as idf(d, t) = log [ (1 + n) / (1 + df(d, t)) ] + 1"
      ]
    },
    {
      "cell_type": "code",
      "execution_count": null,
      "metadata": {
        "id": "ZwKZh23sWFUB"
      },
      "outputs": [],
      "source": [
        "tfidf = TfidfVectorizer(max_features=1000)\n",
        "\n",
        "# transforming traing data to tfidf form arrays. we can use this to train any model\n",
        "x_train = tfidf.fit_transform(train_data['review']).toarray()\n",
        "y_train = np.asarray(train_data['recommendation_int'])"
      ]
    },
    {
      "cell_type": "code",
      "execution_count": null,
      "metadata": {
        "id": "7b-S-yDKWFUB",
        "outputId": "b181e350-8870-4e8f-ec4d-6525d33c1872",
        "colab": {
          "base_uri": "https://localhost:8080/"
        }
      },
      "outputs": [
        {
          "output_type": "execute_result",
          "data": {
            "text/plain": [
              "array([[0., 0., 0., ..., 0., 0., 0.],\n",
              "       [0., 0., 0., ..., 0., 0., 0.],\n",
              "       [0., 0., 0., ..., 0., 0., 0.],\n",
              "       ...,\n",
              "       [0., 0., 0., ..., 0., 0., 0.],\n",
              "       [0., 0., 0., ..., 0., 0., 0.],\n",
              "       [0., 0., 0., ..., 0., 0., 0.]])"
            ]
          },
          "metadata": {},
          "execution_count": 52
        }
      ],
      "source": [
        "x_train"
      ]
    },
    {
      "cell_type": "code",
      "execution_count": null,
      "metadata": {
        "id": "Wyl5TeqIWFUB"
      },
      "outputs": [],
      "source": [
        "x_dev = tfidf.transform(dev_data['review']).toarray()\n",
        "y_dev = np.asarray(dev_data['recommendation_int'])"
      ]
    },
    {
      "cell_type": "markdown",
      "metadata": {
        "collapsed": false,
        "id": "YOjkEqw2WFUC"
      },
      "source": [
        "Trying out Naive bayes Model as this is a text analysis we will use multinomial Naive Bayes."
      ]
    },
    {
      "cell_type": "code",
      "execution_count": null,
      "metadata": {
        "id": "I43eEZtAWFUC",
        "outputId": "221c39e8-e178-4ea6-f624-093a1cdd5212",
        "colab": {
          "base_uri": "https://localhost:8080/"
        }
      },
      "outputs": [
        {
          "output_type": "stream",
          "name": "stdout",
          "text": [
            "Mean Squared Error = 0.16850302855494664 for alpha = 0.01\n",
            "Accuracy = 83.14969714450534 for alpha = 0.01\n",
            "Mean Squared Error = 0.16850302855494664 for alpha = 0.1\n",
            "Accuracy = 83.14969714450534 for alpha = 0.1\n",
            "Mean Squared Error = 0.16851745024516873 for alpha = 0.5\n",
            "Accuracy = 83.14825497548313 for alpha = 0.5\n",
            "Mean Squared Error = 0.16864724545716758 for alpha = 1\n",
            "Accuracy = 83.13527545428325 for alpha = 1\n",
            "Mean Squared Error = 0.16877704066916643 for alpha = 2\n",
            "Accuracy = 83.12229593308335 for alpha = 2\n",
            "Mean Squared Error = 0.16890683588116528 for alpha = 3\n",
            "Accuracy = 83.10931641188347 for alpha = 3\n"
          ]
        }
      ],
      "source": [
        "alpha = [0.01, .1, 0.5, 1, 2, 3]\n",
        "multinomial_nb = {}\n",
        "mse_multinomial_nb = {}\n",
        "accuracy_multinomial_nb = {}\n",
        "y_dev_pred_multinomial_nb = {}\n",
        "for a in alpha:\n",
        "    multinomial_nb[a] = MultinomialNB(alpha=a)\n",
        "    multinomial_nb[a].fit(x_train, y_train)\n",
        "\n",
        "    y_dev_pred_multinomial_nb[a] = (multinomial_nb[a].predict(x_dev))\n",
        "\n",
        "    # Calculate the Mean Squared Error and Accuracy\n",
        "    mse_multinomial_nb[a] = mean_squared_error(y_dev, y_dev_pred_multinomial_nb[a])\n",
        "    accuracy_multinomial_nb[a] = accuracy_score(y_dev, y_dev_pred_multinomial_nb[a])*100\n",
        "\n",
        "    # Print the Mean Squared Error and Accuracy\n",
        "    print(f'Mean Squared Error = {mse_multinomial_nb[a]} for alpha = {a}')\n",
        "    print(f'Accuracy = {accuracy_multinomial_nb[a]} for alpha = {a}')"
      ]
    },
    {
      "cell_type": "markdown",
      "metadata": {
        "collapsed": false,
        "id": "QNzf4Ol-WFUC"
      },
      "source": [
        "Alpha at 0.01 gave us the best accuracy of **83.149%**"
      ]
    },
    {
      "cell_type": "markdown",
      "metadata": {
        "collapsed": false,
        "id": "_MIU_Uk_WFUC"
      },
      "source": [
        "Support Vector Machines (SVM)"
      ]
    },
    {
      "cell_type": "code",
      "execution_count": null,
      "metadata": {
        "id": "XmEaaFwiWFUC",
        "outputId": "4d9e5b95-127a-4af3-ad00-07dec5b84198",
        "colab": {
          "base_uri": "https://localhost:8080/"
        }
      },
      "outputs": [
        {
          "output_type": "stream",
          "name": "stdout",
          "text": [
            "Mean Squared Error = 0.14558696279203923 for C = 0.01\n",
            "Accuracy = 85.44130372079609 for C = 0.01\n",
            "Mean Squared Error = 0.14408710700894145 for C = 0.1\n",
            "Accuracy = 85.59128929910585 for C = 0.1\n",
            "Mean Squared Error = 0.14433227574271704 for C = 1\n",
            "Accuracy = 85.5667724257283 for C = 1\n",
            "Mean Squared Error = 0.1444332275742717 for C = 10\n",
            "Accuracy = 85.55667724257283 for C = 10\n",
            "Mean Squared Error = 0.1444332275742717 for C = 100\n",
            "Accuracy = 85.55667724257283 for C = 100\n",
            "Mean Squared Error = 0.1444476492644938 for C = 1000\n",
            "Accuracy = 85.55523507355062 for C = 1000\n"
          ]
        }
      ],
      "source": [
        "C = [0.01, 0.1, 1, 10, 100, 1000]\n",
        "svm = {}\n",
        "mse_svm = {}\n",
        "accuracy_svm = {}\n",
        "y_dev_pred_svm = {}\n",
        "for c in C:\n",
        "    svm[c] = LinearSVC(C=c, dual = False)\n",
        "    svm[c].fit(x_train, y_train)\n",
        "\n",
        "    y_dev_pred_svm[c] = (svm[c].predict(x_dev))\n",
        "\n",
        "    mse_svm[c] = mean_squared_error(y_dev, y_dev_pred_svm[c])\n",
        "    accuracy_svm[c] = accuracy_score(y_dev, y_dev_pred_svm[c])*100\n",
        "\n",
        "    print(f'Mean Squared Error = {mse_svm[c]} for C = {c}')\n",
        "    print(f'Accuracy = {accuracy_svm[c]} for C = {c}')\n"
      ]
    },
    {
      "cell_type": "markdown",
      "metadata": {
        "id": "pg1WwDOPWFUC"
      },
      "source": [
        "We got an accuracy of **85.591%** for C = 0.1"
      ]
    },
    {
      "cell_type": "markdown",
      "metadata": {
        "collapsed": false,
        "id": "m0I1aWn0WFUC"
      },
      "source": [
        "Trying Random Forest Classifier"
      ]
    },
    {
      "cell_type": "code",
      "execution_count": null,
      "metadata": {
        "id": "ZLpU2aZgWFUC",
        "outputId": "af1d9346-2126-447e-954f-e59b72d7bf4a",
        "colab": {
          "base_uri": "https://localhost:8080/"
        }
      },
      "outputs": [
        {
          "output_type": "stream",
          "name": "stdout",
          "text": [
            "Mean Squared Error = 0.19874531295067782 for n = 10\n",
            "Accuracy = 80.12546870493222 for n = 10\n",
            "Mean Squared Error = 0.19166426305162965 for n = 50\n",
            "Accuracy = 80.83357369483704 for n = 50\n"
          ]
        }
      ],
      "source": [
        "estimators = [10, 50]\n",
        "rfc = {}\n",
        "mse_rfc = {}\n",
        "accuracy_rfc = {}\n",
        "y_dev_pred_rfc = {}\n",
        "for n in estimators:\n",
        "    rfc[n] = RandomForestClassifier(max_depth=25, n_estimators=n)\n",
        "    rfc[n].fit(x_train, y_train)\n",
        "\n",
        "    y_dev_pred_rfc[n] = (rfc[n].predict(x_dev))\n",
        "\n",
        "    mse_rfc[n] = mean_squared_error(y_dev, y_dev_pred_rfc[n])\n",
        "    accuracy_rfc[n] = accuracy_score(y_dev, y_dev_pred_rfc[n])*100\n",
        "\n",
        "    print(f'Mean Squared Error = {mse_rfc[n]} for n = {n}')\n",
        "    print(f'Accuracy = {accuracy_rfc[n]} for n = {n}')\n"
      ]
    },
    {
      "cell_type": "markdown",
      "metadata": {
        "collapsed": false,
        "id": "NE0LSb7zWFUD"
      },
      "source": [
        "This gave me an accuracy of **80.833%** for n = 50\n"
      ]
    },
    {
      "cell_type": "markdown",
      "source": [
        "Trying ensemble of all three model :"
      ],
      "metadata": {
        "id": "aGo_utfPuoQP"
      }
    },
    {
      "cell_type": "code",
      "source": [
        "model_1 =LinearSVC(C=0.1,dual=False)\n",
        "model_2 = MultinomialNB(alpha=0.01)\n",
        "model_3 = RandomForestClassifier(max_depth=25,n_estimators=10)"
      ],
      "metadata": {
        "id": "Q6R7SP7Runcj"
      },
      "execution_count": null,
      "outputs": []
    },
    {
      "cell_type": "code",
      "source": [
        "from sklearn.ensemble import VotingClassifier"
      ],
      "metadata": {
        "id": "7tJsosqzuyJf"
      },
      "execution_count": null,
      "outputs": []
    },
    {
      "cell_type": "code",
      "source": [
        "final_model = VotingClassifier(\n",
        "    estimators=[('svm', model_1), ('mnb', model_2), ('rf', model_3)], voting='hard')"
      ],
      "metadata": {
        "id": "h82O6-ZZu9BH"
      },
      "execution_count": null,
      "outputs": []
    },
    {
      "cell_type": "code",
      "source": [
        "final_model.fit(x_train, y_train)\n",
        "pred_final = final_model.predict(x_dev)\n",
        "\n",
        "mse_en= mean_squared_error(y_dev, pred_final)\n",
        "accuracy_en = accuracy_score(y_dev, pred_final)*100\n",
        "print(f'Mean Squared Error = {mse_en}')\n",
        "print(f'Accuracy = {accuracy_en}')"
      ],
      "metadata": {
        "colab": {
          "base_uri": "https://localhost:8080/"
        },
        "id": "c3ZxIQKiu9hC",
        "outputId": "2a93f88c-424c-4247-ab7a-c2fd132af66b"
      },
      "execution_count": null,
      "outputs": [
        {
          "output_type": "stream",
          "name": "stdout",
          "text": [
            "Mean Squared Error = 0.15931641188347273\n",
            "Accuracy = 84.06835881165271\n"
          ]
        }
      ]
    },
    {
      "cell_type": "markdown",
      "source": [
        "The model did an accuracy of **84.068%** , This was worse than our SVM model"
      ],
      "metadata": {
        "id": "M5nZwQ35wqjA"
      }
    },
    {
      "cell_type": "code",
      "execution_count": null,
      "metadata": {
        "id": "l7pRPR5dWFUD"
      },
      "outputs": [],
      "source": [
        "x_test = tfidf.transform(test_data['review']).toarray()\n",
        "y_test = np.asarray(test_data['recommendation_int'])\n"
      ]
    },
    {
      "cell_type": "markdown",
      "metadata": {
        "collapsed": false,
        "id": "zAaNIyI9WFUD"
      },
      "source": [
        "Using the test data to test our best model"
      ]
    },
    {
      "cell_type": "code",
      "execution_count": null,
      "metadata": {
        "id": "FpSrGfwZWFUD",
        "outputId": "d140252c-2299-4039-a7eb-fd559e6f15cb",
        "colab": {
          "base_uri": "https://localhost:8080/"
        }
      },
      "outputs": [
        {
          "output_type": "stream",
          "name": "stdout",
          "text": [
            "Mean Squared Error test = 0.14155177386789733\n",
            "Accuracy test = 85.84482261321027\n"
          ]
        }
      ],
      "source": [
        "c=0.1\n",
        "y_test_pred = (svm[c].predict(x_test))\n",
        "\n",
        "mse_test = mean_squared_error(y_test, y_test_pred)\n",
        "accuracy_test = accuracy_score(y_test, y_test_pred)*100\n",
        "\n",
        "print(f'Mean Squared Error test = {mse_test}')\n",
        "print(f'Accuracy test = {accuracy_test}')\n"
      ]
    },
    {
      "cell_type": "markdown",
      "metadata": {
        "collapsed": false,
        "id": "OAGe59XmWFUD"
      },
      "source": [
        "**GUI**"
      ]
    },
    {
      "cell_type": "code",
      "execution_count": null,
      "metadata": {
        "id": "uCmGnE_yWFUD"
      },
      "outputs": [],
      "source": [
        "def to_tfid(x):\n",
        "    value =  tfidf.transform(x).toarray()\n",
        "    return value\n",
        "\n",
        "def rating():\n",
        "    x = textfield_label.get()\n",
        "    results.delete(\"all\")\n",
        "    value = svm[c].predict(to_tfid([x]))\n",
        "    if value == 0:\n",
        "        text = \"Negative\"\n",
        "    else:\n",
        "        text = \"Positive\"\n",
        "    results.create_text(200, 80, text=\"The comment is \"+text, font='Arial 20', fill='black')\n",
        "    return value\n",
        "\n",
        "window = Tk()\n",
        "window.geometry(\"500x500\")\n",
        "window.title(\"Game Recommender\")\n",
        "window.config(bg=\"white\")\n",
        "head = Label(window, text=\"Game Review Classifier\", bg=\"white\", foreground=\"black\", font=(\"Arial\", 25)).pack()\n",
        "Label(window, text=\"Comment\", bg=\"white\", foreground=\"black\", font=(\"Arial\", 10)).place(x=100, y=80)\n",
        "Label(window, text=\"______________________________\", bg=\"white\", foreground=\"black\").place(x=173, y=90)\n",
        "textfield_label = Entry(window, bg=\"white\", foreground=\"black\", border=0, insertbackground=\"white\")\n",
        "textfield_label.focus()\n",
        "textfield_label.place(x=175, y=80, height=20, width=150)\n",
        "output = Label(window, bg=\"white\", foreground=\"black\", font=(\"Arial\", 25)).place(x=50, y=250)\n",
        "search = Button(window, text=\"Predict\", command=rating).place(x=175, y=175, width=150)\n",
        "results = tkinter.Canvas(bg='white', width='400', height='200', highlightthickness=0)\n",
        "results.place(x=50, y=250)\n",
        "window.mainloop()"
      ]
    }
  ],
  "metadata": {
    "colab": {
      "provenance": []
    },
    "kernelspec": {
      "display_name": "Python 3",
      "language": "python",
      "name": "python3"
    },
    "language_info": {
      "codemirror_mode": {
        "name": "ipython",
        "version": 3
      },
      "file_extension": ".py",
      "mimetype": "text/x-python",
      "name": "python",
      "nbconvert_exporter": "python",
      "pygments_lexer": "ipython3",
      "version": "3.11.4"
    }
  },
  "nbformat": 4,
  "nbformat_minor": 0
}